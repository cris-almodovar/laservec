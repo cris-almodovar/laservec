{
 "cells": [
  {
   "cell_type": "code",
   "execution_count": 1,
   "metadata": {},
   "outputs": [],
   "source": [
    "import pandas as pd\n",
    "import numpy as np\n",
    "from laservec import LASER\n",
    "\n",
    "url = \"10.10.0.10:8100\""
   ]
  },
  {
   "cell_type": "code",
   "execution_count": 2,
   "metadata": {},
   "outputs": [
    {
     "data": {
      "text/html": [
       "<div>\n",
       "<style scoped>\n",
       "    .dataframe tbody tr th:only-of-type {\n",
       "        vertical-align: middle;\n",
       "    }\n",
       "\n",
       "    .dataframe tbody tr th {\n",
       "        vertical-align: top;\n",
       "    }\n",
       "\n",
       "    .dataframe thead th {\n",
       "        text-align: right;\n",
       "    }\n",
       "</style>\n",
       "<table border=\"1\" class=\"dataframe\">\n",
       "  <thead>\n",
       "    <tr style=\"text-align: right;\">\n",
       "      <th></th>\n",
       "      <th>author</th>\n",
       "      <th>text</th>\n",
       "      <th>objective</th>\n",
       "      <th>bias</th>\n",
       "    </tr>\n",
       "  </thead>\n",
       "  <tbody>\n",
       "    <tr>\n",
       "      <th>0</th>\n",
       "      <td>Trey Radel (Representative from Florida)</td>\n",
       "      <td>From: Trey Radel (Representative from Florida)...</td>\n",
       "      <td>policy</td>\n",
       "      <td>partisan</td>\n",
       "    </tr>\n",
       "    <tr>\n",
       "      <th>1</th>\n",
       "      <td>Mitch McConnell (Senator from Kentucky)</td>\n",
       "      <td>From: Mitch McConnell (Senator from Kentucky)\\...</td>\n",
       "      <td>attack</td>\n",
       "      <td>partisan</td>\n",
       "    </tr>\n",
       "    <tr>\n",
       "      <th>2</th>\n",
       "      <td>Kurt Schrader (Representative from Oregon)</td>\n",
       "      <td>From: Kurt Schrader (Representative from Orego...</td>\n",
       "      <td>support</td>\n",
       "      <td>neutral</td>\n",
       "    </tr>\n",
       "    <tr>\n",
       "      <th>3</th>\n",
       "      <td>Michael Crapo (Senator from Idaho)</td>\n",
       "      <td>From: Michael Crapo (Senator from Idaho)\\nSour...</td>\n",
       "      <td>policy</td>\n",
       "      <td>neutral</td>\n",
       "    </tr>\n",
       "    <tr>\n",
       "      <th>4</th>\n",
       "      <td>Mark Udall (Senator from Colorado)</td>\n",
       "      <td>From: Mark Udall (Senator from Colorado)\\nSour...</td>\n",
       "      <td>policy</td>\n",
       "      <td>partisan</td>\n",
       "    </tr>\n",
       "  </tbody>\n",
       "</table>\n",
       "</div>"
      ],
      "text/plain": [
       "                                        author  \\\n",
       "0     Trey Radel (Representative from Florida)   \n",
       "1      Mitch McConnell (Senator from Kentucky)   \n",
       "2   Kurt Schrader (Representative from Oregon)   \n",
       "3           Michael Crapo (Senator from Idaho)   \n",
       "4           Mark Udall (Senator from Colorado)   \n",
       "\n",
       "                                                text objective      bias  \n",
       "0  From: Trey Radel (Representative from Florida)...    policy  partisan  \n",
       "1  From: Mitch McConnell (Senator from Kentucky)\\...    attack  partisan  \n",
       "2  From: Kurt Schrader (Representative from Orego...   support   neutral  \n",
       "3  From: Michael Crapo (Senator from Idaho)\\nSour...    policy   neutral  \n",
       "4  From: Mark Udall (Senator from Colorado)\\nSour...    policy  partisan  "
      ]
     },
     "execution_count": 2,
     "metadata": {},
     "output_type": "execute_result"
    }
   ],
   "source": [
    "data_file = \"sample_data/political_social_media.csv\"\n",
    "df = pd.read_csv(data_file)\n",
    "\n",
    "df[\"author\"] = df[\"label\"].map(lambda lbl: lbl.replace(\"From:\", \"\"))\n",
    "df[\"objective\"] = df[\"message\"]\n",
    "df[\"text\"] = df[\"label\"] + \"\\nSource: \" + df[\"source\"] + \"\\n\" + df[\"text\"]\n",
    "\n",
    "df = df[[\"author\", \"text\", \"objective\", \"bias\" ]]\n",
    "df.head()"
   ]
  },
  {
   "cell_type": "code",
   "execution_count": null,
   "metadata": {},
   "outputs": [],
   "source": [
    "%%time\n",
    "\n",
    "VECTOR_LEN = 1024\n",
    "rows = len(df)\n",
    "cols = VECTOR_LEN\n",
    "embeddings = np.zeros((rows, cols))\n",
    "\n",
    "with LASER(url) as laser:\n",
    "    for i,row in enumerate(df.itertuples()):\n",
    "        if not row.text:\n",
    "            print(f\"row {i} has a blank text\")\n",
    "            continue\n",
    "            \n",
    "        if i == 10: break\n",
    "            \n",
    "        text = row.text\n",
    "        embedding,_ = laser.vectorize(text)\n",
    "        embeddings[i] = embedding        "
   ]
  }
 ],
 "metadata": {
  "kernelspec": {
   "display_name": "Python 3",
   "language": "python",
   "name": "python3"
  },
  "language_info": {
   "codemirror_mode": {
    "name": "ipython",
    "version": 3
   },
   "file_extension": ".py",
   "mimetype": "text/x-python",
   "name": "python",
   "nbconvert_exporter": "python",
   "pygments_lexer": "ipython3",
   "version": "3.7.5"
  }
 },
 "nbformat": 4,
 "nbformat_minor": 2
}

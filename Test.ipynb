{
 "cells": [
  {
   "cell_type": "code",
   "execution_count": 1,
   "metadata": {},
   "outputs": [],
   "source": [
    "import pandas as pd\n",
    "import numpy as np\n",
    "from laservec import LASER\n",
    "import html\n",
    "import pickle\n",
    "from mediawiki import MediaWiki\n",
    "from unidecode import unidecode\n",
    "\n",
    "wikipedia = MediaWiki()\n",
    "\n",
    "url = \"localhost:8100\""
   ]
  },
  {
   "cell_type": "code",
   "execution_count": 2,
   "metadata": {},
   "outputs": [
    {
     "data": {
      "text/html": [
       "<div>\n",
       "<style scoped>\n",
       "    .dataframe tbody tr th:only-of-type {\n",
       "        vertical-align: middle;\n",
       "    }\n",
       "\n",
       "    .dataframe tbody tr th {\n",
       "        vertical-align: top;\n",
       "    }\n",
       "\n",
       "    .dataframe thead th {\n",
       "        text-align: right;\n",
       "    }\n",
       "</style>\n",
       "<table border=\"1\" class=\"dataframe\">\n",
       "  <thead>\n",
       "    <tr style=\"text-align: right;\">\n",
       "      <th></th>\n",
       "      <th>author</th>\n",
       "      <th>text</th>\n",
       "      <th>objective</th>\n",
       "      <th>bias</th>\n",
       "    </tr>\n",
       "  </thead>\n",
       "  <tbody>\n",
       "    <tr>\n",
       "      <th>0</th>\n",
       "      <td>Trey Radel (Representative from Florida)</td>\n",
       "      <td>Author: Trey Radel (Representative from Florid...</td>\n",
       "      <td>policy</td>\n",
       "      <td>partisan</td>\n",
       "    </tr>\n",
       "    <tr>\n",
       "      <th>1</th>\n",
       "      <td>Mitch McConnell (Senator from Kentucky)</td>\n",
       "      <td>Author: Mitch McConnell (Senator from Kentucky...</td>\n",
       "      <td>attack</td>\n",
       "      <td>partisan</td>\n",
       "    </tr>\n",
       "    <tr>\n",
       "      <th>2</th>\n",
       "      <td>Kurt Schrader (Representative from Oregon)</td>\n",
       "      <td>Author: Kurt Schrader (Representative from Ore...</td>\n",
       "      <td>support</td>\n",
       "      <td>neutral</td>\n",
       "    </tr>\n",
       "    <tr>\n",
       "      <th>3</th>\n",
       "      <td>Michael Crapo (Senator from Idaho)</td>\n",
       "      <td>Author: Michael Crapo (Senator from Idaho)\\nSo...</td>\n",
       "      <td>policy</td>\n",
       "      <td>neutral</td>\n",
       "    </tr>\n",
       "    <tr>\n",
       "      <th>4</th>\n",
       "      <td>Mark Udall (Senator from Colorado)</td>\n",
       "      <td>Author: Mark Udall (Senator from Colorado)\\nSo...</td>\n",
       "      <td>policy</td>\n",
       "      <td>partisan</td>\n",
       "    </tr>\n",
       "  </tbody>\n",
       "</table>\n",
       "</div>"
      ],
      "text/plain": [
       "                                       author  \\\n",
       "0    Trey Radel (Representative from Florida)   \n",
       "1     Mitch McConnell (Senator from Kentucky)   \n",
       "2  Kurt Schrader (Representative from Oregon)   \n",
       "3          Michael Crapo (Senator from Idaho)   \n",
       "4          Mark Udall (Senator from Colorado)   \n",
       "\n",
       "                                                text objective      bias  \n",
       "0  Author: Trey Radel (Representative from Florid...    policy  partisan  \n",
       "1  Author: Mitch McConnell (Senator from Kentucky...    attack  partisan  \n",
       "2  Author: Kurt Schrader (Representative from Ore...   support   neutral  \n",
       "3  Author: Michael Crapo (Senator from Idaho)\\nSo...    policy   neutral  \n",
       "4  Author: Mark Udall (Senator from Colorado)\\nSo...    policy  partisan  "
      ]
     },
     "execution_count": 2,
     "metadata": {},
     "output_type": "execute_result"
    }
   ],
   "source": [
    "data_file = \"sample_data/political_social_media.csv\"\n",
    "df = pd.read_csv(data_file)\n",
    "\n",
    "df[\"author\"] = df[\"label\"].map(lambda lbl: html.unescape(unidecode(lbl)).replace(\"From:\", \"\").strip())\n",
    "df[\"objective\"] = df[\"message\"]\n",
    "df[\"text\"] = \"Author: \" + df[\"author\"] + \"\\nSource: \" + df[\"source\"] + \"\\n\" + df[\"text\"]\n",
    "df[\"text\"] = df[\"text\"].map(lambda t: html.unescape(unidecode(t)))\n",
    "\n",
    "df = df[[\"author\", \"text\", \"objective\", \"bias\" ]]\n",
    "df.head()"
   ]
  },
  {
   "cell_type": "code",
   "execution_count": 4,
   "metadata": {},
   "outputs": [],
   "source": [
    "def get_author_summary(author:str) -> str:\n",
    "    for _ in range(3):\n",
    "        try:\n",
    "            res = wikipedia.search(author, results=1)\n",
    "            if res:\n",
    "                p = wikipedia.page(res[0])\n",
    "                if p:\n",
    "                    return p.summary\n",
    "        except:\n",
    "            pass\n",
    "    return None"
   ]
  },
  {
   "cell_type": "code",
   "execution_count": 5,
   "metadata": {},
   "outputs": [
    {
     "name": "stdout",
     "output_type": "stream",
     "text": [
      "CPU times: user 12.6 s, sys: 331 ms, total: 12.9 s\n",
      "Wall time: 17min 25s\n"
     ]
    }
   ],
   "source": [
    "%%time\n",
    "\n",
    "unique_authors = df[\"author\"].unique()\n",
    "author_summary = { a:\"\" for a in unique_authors }\n",
    "\n",
    "for author in author_summary.keys():     \n",
    "    summary = get_author_summary(author)  \n",
    "    if summary:\n",
    "        author_summary[author] = summary"
   ]
  },
  {
   "cell_type": "code",
   "execution_count": 10,
   "metadata": {},
   "outputs": [
    {
     "data": {
      "text/plain": [
       "['Michael Turner (Representative from Ohio)',\n",
       " 'John Tierney (Representative from Massachusetts)',\n",
       " 'William Thornberry (Representative from Texas)',\n",
       " 'Luis Gutierrez (Representative from Illinois)',\n",
       " 'RubI(c)n Hinojosa (Representative from Texas)',\n",
       " \"Gregorio 'Kilili' Sablan (Representative from NA)\",\n",
       " 'Nydia VelIAzquez (Representative from New York)']"
      ]
     },
     "execution_count": 10,
     "metadata": {},
     "output_type": "execute_result"
    }
   ],
   "source": [
    "author_with_no_summary = [ a for a in author_summary.keys() if not author_summary[a] ]\n",
    "author_with_no_summary"
   ]
  },
  {
   "cell_type": "code",
   "execution_count": 13,
   "metadata": {},
   "outputs": [],
   "source": [
    "author_fixed = { \n",
    "    \"Michael Turner (Representative from Ohio)\": \"Michael Ray Turner\",\n",
    "    \"John Tierney (Representative from Massachusetts)\": \"John F. Tierney\",\n",
    "    \"William Thornberry (Representative from Texas)\": 'William McClellan \"Mac\" Thornberry',\n",
    "    \"Luis Gutierrez (Representative from Illinois)\": \"Luis Vicente Gutierrez\",\n",
    "    \"RubI(c)n Hinojosa (Representative from Texas)\": \"Ruben Eloy Hinojosa\",\n",
    "    \"Gregorio 'Kilili' Sablan (Representative from NA)\": \"Gregorio Kilili Camacho Sablan\",\n",
    "    \"Nydia VelIAzquez (Representative from New York)\": \"Nydia Margarita Velazquez Serrano\"\n",
    "}\n",
    "\n",
    "for author in author_fixed.keys():\n",
    "    summary = get_author_summary(author_fixed[author])\n",
    "    if summary:\n",
    "        author_summary[author] = summary"
   ]
  },
  {
   "cell_type": "code",
   "execution_count": 14,
   "metadata": {},
   "outputs": [
    {
     "data": {
      "text/plain": [
       "[]"
      ]
     },
     "execution_count": 14,
     "metadata": {},
     "output_type": "execute_result"
    }
   ],
   "source": [
    "author_with_no_summary = [ a for a in author_summary.keys() if not author_summary[a] ]\n",
    "author_with_no_summary"
   ]
  },
  {
   "cell_type": "code",
   "execution_count": 15,
   "metadata": {},
   "outputs": [],
   "source": [
    "if author_summary:\n",
    "    with open(\"author_summary.pkl\", mode=\"wb\") as f:\n",
    "        pickle.dump(author_summary, f)"
   ]
  },
  {
   "cell_type": "code",
   "execution_count": 16,
   "metadata": {},
   "outputs": [
    {
     "name": "stdout",
     "output_type": "stream",
     "text": [
      "CPU times: user 7.97 s, sys: 687 ms, total: 8.66 s\n",
      "Wall time: 49min 41s\n"
     ]
    }
   ],
   "source": [
    "%%time\n",
    "\n",
    "VECTOR_LEN = 1024\n",
    "rows = len(df)\n",
    "cols = VECTOR_LEN\n",
    "text_embeddings = np.zeros((rows, cols))\n",
    "\n",
    "with LASER(url) as laser:\n",
    "    for i,row in enumerate(df.itertuples()):\n",
    "        if not row.text:\n",
    "            print(f\"row {i} has a blank text\")\n",
    "            continue  \n",
    "            \n",
    "        text = row.text\n",
    "        embedding,_ = laser.vectorize(text)\n",
    "        text_embeddings[i] = embedding\n",
    "        "
   ]
  },
  {
   "cell_type": "code",
   "execution_count": 18,
   "metadata": {},
   "outputs": [],
   "source": [
    "with open(\"text_embeddings.pkl\", mode=\"wb\") as f:\n",
    "    pickle.dump(text_embeddings, f)"
   ]
  },
  {
   "cell_type": "code",
   "execution_count": null,
   "metadata": {},
   "outputs": [],
   "source": [
    "from sklearn.metrics.pairwise import cosine_similarity"
   ]
  },
  {
   "cell_type": "code",
   "execution_count": null,
   "metadata": {},
   "outputs": [],
   "source": [
    "sim = cosine_similarity(vec1.reshape(1,1024), vec.reshape(1,1024))\n",
    "lang1,lang2, sim.squeeze().item()"
   ]
  },
  {
   "cell_type": "code",
   "execution_count": null,
   "metadata": {},
   "outputs": [],
   "source": [
    "text1,text2"
   ]
  },
  {
   "cell_type": "code",
   "execution_count": null,
   "metadata": {},
   "outputs": [],
   "source": [
    "import wikipedia\n",
    "\n",
    "sum1 = wikipedia.summary(\"Candice Miller (Representative from Michigan)\")"
   ]
  },
  {
   "cell_type": "code",
   "execution_count": null,
   "metadata": {},
   "outputs": [],
   "source": [
    "sum1"
   ]
  },
  {
   "cell_type": "code",
   "execution_count": null,
   "metadata": {},
   "outputs": [],
   "source": [
    "sum1vec,_ = laser.vectorize(sum1)"
   ]
  },
  {
   "cell_type": "code",
   "execution_count": null,
   "metadata": {},
   "outputs": [],
   "source": [
    "sum2 = wikipedia.summary(\"Mitch McConnell (Senator from Kentucky)\")"
   ]
  },
  {
   "cell_type": "code",
   "execution_count": null,
   "metadata": {},
   "outputs": [],
   "source": [
    "sum2"
   ]
  },
  {
   "cell_type": "code",
   "execution_count": null,
   "metadata": {},
   "outputs": [],
   "source": [
    "sum2vec,_ = laser.vectorize(sum2)"
   ]
  },
  {
   "cell_type": "code",
   "execution_count": null,
   "metadata": {},
   "outputs": [],
   "source": [
    "sum1vec.shape, sum2vec.shape"
   ]
  },
  {
   "cell_type": "code",
   "execution_count": null,
   "metadata": {},
   "outputs": [],
   "source": [
    "vec1c = np.concatenate((vec1, sum1vec))\n",
    "vec2c = np.concatenate((vec2, sum2vec))"
   ]
  },
  {
   "cell_type": "code",
   "execution_count": null,
   "metadata": {},
   "outputs": [],
   "source": [
    "sim = cosine_similarity(sum1vec.reshape(1,1024), sum2vec.reshape(1,1024))\n",
    "sim.squeeze()"
   ]
  },
  {
   "cell_type": "code",
   "execution_count": null,
   "metadata": {},
   "outputs": [],
   "source": [
    "lang"
   ]
  },
  {
   "cell_type": "code",
   "execution_count": null,
   "metadata": {},
   "outputs": [],
   "source": [
    "vec.tolist()"
   ]
  },
  {
   "cell_type": "code",
   "execution_count": null,
   "metadata": {},
   "outputs": [],
   "source": [
    "emb = facts[\"_embedding\"]"
   ]
  },
  {
   "cell_type": "code",
   "execution_count": null,
   "metadata": {},
   "outputs": [],
   "source": [
    "emb"
   ]
  },
  {
   "cell_type": "code",
   "execution_count": null,
   "metadata": {},
   "outputs": [],
   "source": [
    "vec1 = vec\n",
    "vec2 = np.array(emb)"
   ]
  },
  {
   "cell_type": "code",
   "execution_count": null,
   "metadata": {},
   "outputs": [],
   "source": [
    "sim = cosine_similarity(vec1.reshape(1,1024), vec2.reshape(1,1024))"
   ]
  },
  {
   "cell_type": "code",
   "execution_count": null,
   "metadata": {},
   "outputs": [],
   "source": [
    "sim.squeeze().item()"
   ]
  },
  {
   "cell_type": "code",
   "execution_count": null,
   "metadata": {},
   "outputs": [],
   "source": []
  }
 ],
 "metadata": {
  "kernelspec": {
   "display_name": "Python 3",
   "language": "python",
   "name": "python3"
  },
  "language_info": {
   "codemirror_mode": {
    "name": "ipython",
    "version": 3
   },
   "file_extension": ".py",
   "mimetype": "text/x-python",
   "name": "python",
   "nbconvert_exporter": "python",
   "pygments_lexer": "ipython3",
   "version": "3.7.5"
  }
 },
 "nbformat": 4,
 "nbformat_minor": 2
}
